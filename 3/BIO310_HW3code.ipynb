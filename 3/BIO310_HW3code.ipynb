{
  "nbformat": 4,
  "nbformat_minor": 0,
  "metadata": {
    "colab": {
      "name": "BIO310_HW3code_MertSasmaz.ipynb",
      "provenance": []
    },
    "kernelspec": {
      "name": "python3",
      "display_name": "Python 3"
    },
    "language_info": {
      "name": "python"
    }
  },
  "cells": [
    {
      "cell_type": "code",
      "metadata": {
        "id": "dP1uQ7-KUEDP"
      },
      "source": [
        "import pandas as pd \n",
        "import numpy as np\n",
        "import seaborn as sns\n",
        "import matplotlib.pyplot as plt\n",
        "import sklearn.cluster as cluster\n",
        "%matplotlib inline"
      ],
      "execution_count": null,
      "outputs": []
    },
    {
      "cell_type": "code",
      "metadata": {
        "id": "2UGFpbIk6G_Y"
      },
      "source": [
        "data = pd.read_csv('data.csv')\n",
        "labels = pd.read_csv('labels.csv')"
      ],
      "execution_count": null,
      "outputs": []
    },
    {
      "cell_type": "markdown",
      "metadata": {
        "id": "rzFd-XkvnrRg"
      },
      "source": [
        "**Data**"
      ]
    },
    {
      "cell_type": "code",
      "metadata": {
        "id": "en8NatSEjAEz"
      },
      "source": [
        "print(data.describe())\n",
        "print(\" \\n\")\n",
        "print(labels.describe())"
      ],
      "execution_count": null,
      "outputs": []
    },
    {
      "cell_type": "markdown",
      "metadata": {
        "id": "vRJqtyyqnw0h"
      },
      "source": [
        "1) 801\n",
        "\n",
        "2) 20531\n",
        "\n",
        "3)\n"
      ]
    },
    {
      "cell_type": "code",
      "metadata": {
        "id": "StZm4fpHEO9c"
      },
      "source": [
        "plt.hist(data.mean(),bins = 10)"
      ],
      "execution_count": null,
      "outputs": []
    },
    {
      "cell_type": "markdown",
      "metadata": {
        "id": "4HqfkgNbEgO8"
      },
      "source": [
        "4)"
      ]
    },
    {
      "cell_type": "code",
      "metadata": {
        "id": "VaUTIOMaEiS5"
      },
      "source": [
        "print(data.mean().idxmax())\n",
        "data.mean().max()"
      ],
      "execution_count": null,
      "outputs": []
    },
    {
      "cell_type": "markdown",
      "metadata": {
        "id": "pmRYPjQhFKJF"
      },
      "source": [
        "K-means Clustering"
      ]
    },
    {
      "cell_type": "code",
      "metadata": {
        "id": "iu9__g4ZXL2L"
      },
      "source": [
        "\n",
        "data.fillna(value=0) #fill NA with 0s\n",
        "#data.isna(df) #show NA values\n",
        "#sns.pairplot(df[['gene_2', 'gene_4']])\n",
        "\n",
        "#kmeans = cluster.KMeans(n_clusters=2, init='k-means++')\n",
        "\n",
        "\n",
        "for val in range(0, 20531):\n",
        "  print('gene = ', val)\n",
        "  for k in [2, 3, 5, 6, 7, 8, 9]:\n",
        "    kmeans = cluster.KMeans(n_clusters=k, init='k-means++', random_state=1)\n",
        "    kmeans = kmeans.fit(data[['gene_'+ str(val)]])\n",
        "    print('k = ', k)\n",
        "    print(kmeans.cluster_centers_)\n",
        "    print('\\n\\n')\n",
        "\n",
        "#print(data.tail())\n",
        "#data.describe()"
      ],
      "execution_count": null,
      "outputs": []
    },
    {
      "cell_type": "code",
      "metadata": {
        "id": "fpjBp3zYXwDj"
      },
      "source": [
        "\n",
        "#pd.isna(label) \n",
        "for val in range(0, 20531):\n",
        " sns.pairplot(data[['gene_'+str(val)]])\n",
        "#print(label.head())\n",
        "#label.describe()"
      ],
      "execution_count": null,
      "outputs": []
    }
  ]
}