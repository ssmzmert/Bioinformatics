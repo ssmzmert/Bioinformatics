{
  "nbformat": 4,
  "nbformat_minor": 0,
  "metadata": {
    "colab": {
      "name": "BIO310_HW4code_MertSasmaz.ipynb",
      "provenance": []
    },
    "kernelspec": {
      "name": "python3",
      "display_name": "Python 3"
    },
    "language_info": {
      "name": "python"
    }
  },
  "cells": [
    {
      "cell_type": "code",
      "metadata": {
        "id": "_BhbmNTF1-aR"
      },
      "source": [
        "import pandas as pd \n",
        "import numpy as np\n",
        "import seaborn as sns\n",
        "import matplotlib.pyplot as plt\n",
        "import sklearn.cluster as cluster\n",
        "from sklearn.cluster import KMeans\n",
        "from sklearn.decomposition import PCA\n",
        "from sklearn.manifold import TSNE\n",
        "%matplotlib inline"
      ],
      "execution_count": 52,
      "outputs": []
    },
    {
      "cell_type": "code",
      "metadata": {
        "id": "j0OpH7th2CJQ"
      },
      "source": [
        "data = pd.read_csv('data.csv')\n",
        "labels = pd.read_csv('labels.csv')"
      ],
      "execution_count": 6,
      "outputs": []
    },
    {
      "cell_type": "code",
      "metadata": {
        "id": "Ki4GU00V2FRG"
      },
      "source": [
        "data = data.dropna()\n",
        "kmeans = cluster.KMeans(n_clusters=5, init='k-means++', random_state=1)\n",
        "\n",
        "pca = PCA(n_components=2)\n",
        "\n",
        "tsne = TSNE(n_components=2)\n",
        "\n",
        "kmeans.fit_predict"
      ],
      "execution_count": null,
      "outputs": []
    },
    {
      "cell_type": "code",
      "metadata": {
        "id": "tX7IXYdVCfmu"
      },
      "source": [
        "Pca = pca.fit_transform(data)\n",
        "df = pd.DataFrame(data=Pca)\n",
        "sns.scatterplot(data=df,x=0,y=1)"
      ],
      "execution_count": null,
      "outputs": []
    },
    {
      "cell_type": "code",
      "metadata": {
        "id": "4_hOWnIqOJDN"
      },
      "source": [
        "Tsne = tsne.fit_transform(data)\n",
        "df2 = pd.DataFrame(data=Tsne)\n",
        "sns.scatterplot(data=df2,x=0,y=1)"
      ],
      "execution_count": null,
      "outputs": []
    },
    {
      "cell_type": "markdown",
      "metadata": {
        "id": "Naf-UFh3Onrf"
      },
      "source": [
        "We can see that it is better clustered in the second chart when k=5."
      ]
    }
  ]
}