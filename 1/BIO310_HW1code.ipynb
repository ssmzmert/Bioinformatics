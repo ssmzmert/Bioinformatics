{
  "nbformat": 4,
  "nbformat_minor": 0,
  "metadata": {
    "colab": {
      "name": "BIO310-HW1code-MertSasmaz.ipynb",
      "provenance": []
    },
    "kernelspec": {
      "name": "python3",
      "display_name": "Python 3"
    }
  },
  "cells": [
    {
      "cell_type": "code",
      "metadata": {
        "colab": {
          "base_uri": "https://localhost:8080/"
        },
        "id": "1stuztpVTyQV",
        "outputId": "7661cf0b-fe2f-4b50-9088-082e064757f0"
      },
      "source": [
        "!pip install biopython"
      ],
      "execution_count": 1,
      "outputs": [
        {
          "output_type": "stream",
          "text": [
            "Collecting biopython\n",
            "\u001b[?25l  Downloading https://files.pythonhosted.org/packages/3a/cd/0098eaff841850c01da928c7f509b72fd3e1f51d77b772e24de9e2312471/biopython-1.78-cp37-cp37m-manylinux1_x86_64.whl (2.3MB)\n",
            "\u001b[K     |████████████████████████████████| 2.3MB 4.2MB/s \n",
            "\u001b[?25hRequirement already satisfied: numpy in /usr/local/lib/python3.7/dist-packages (from biopython) (1.19.5)\n",
            "Installing collected packages: biopython\n",
            "Successfully installed biopython-1.78\n"
          ],
          "name": "stdout"
        }
      ]
    },
    {
      "cell_type": "code",
      "metadata": {
        "colab": {
          "base_uri": "https://localhost:8080/"
        },
        "id": "nPFw2LpnUybb",
        "outputId": "76dfd70a-007d-4412-e69e-508136074e19"
      },
      "source": [
        "from Bio import SeqIO\r\n",
        "from collections import Counter\r\n",
        "\r\n",
        "for seq_record in SeqIO.parse(\"P08100_aaCount.txt\", \"fasta\"):\r\n",
        "     print(seq_record.id)\r\n",
        "     print(repr(seq_record.seq))\r\n",
        "     print(len(seq_record))\r\n",
        "     print(Counter(seq_record.seq))\r\n",
        "\r\n",
        "c = Counter(seq_record.seq)"
      ],
      "execution_count": 4,
      "outputs": [
        {
          "output_type": "stream",
          "text": [
            "sp|P08100|OPSD_HUMAN\n",
            "Seq('MNGTEGPNFYVPFSNATGVVRSPFEYPQYYLAEPWQFSMLAAYMFLLIVLGFPI...APA')\n",
            "348\n",
            "Counter({'A': 32, 'F': 30, 'V': 30, 'L': 29, 'T': 24, 'I': 24, 'G': 22, 'P': 20, 'Y': 19, 'S': 17, 'N': 16, 'E': 16, 'M': 15, 'Q': 12, 'K': 11, 'C': 10, 'R': 7, 'W': 5, 'H': 5, 'D': 4})\n"
          ],
          "name": "stdout"
        }
      ]
    },
    {
      "cell_type": "code",
      "metadata": {
        "id": "kOzdG04wYYfh"
      },
      "source": [
        "import matplotlib.pyplot as plt\r\n",
        "import numpy as np\r\n",
        "%matplotlib inline"
      ],
      "execution_count": 5,
      "outputs": []
    },
    {
      "cell_type": "code",
      "metadata": {
        "colab": {
          "base_uri": "https://localhost:8080/",
          "height": 294
        },
        "id": "EZIxH-9vYcrL",
        "outputId": "94e0c833-10f8-4f9f-9ce1-b49822cfb8fa"
      },
      "source": [
        "x = ['A', 'F', 'V', 'L', 'T', 'I', 'G', 'P', 'Y', 'S', 'N', 'E', 'M', 'Q', 'K', 'C', 'R', 'W', 'H', 'D']\r\n",
        "values = []\r\n",
        "\r\n",
        "for i in range(20):\r\n",
        " values.append(c[x[i]])\r\n",
        "\r\n",
        "plt.bar(x, values)\r\n",
        "\r\n",
        "plt.xlabel(\"Amino Acids\")\r\n",
        "plt.ylabel(\"Frequencies in Rhodopsin\")\r\n",
        "plt.title(\"Amino Acid Frequencies\")\r\n",
        "\r\n",
        "plt.show()"
      ],
      "execution_count": 6,
      "outputs": [
        {
          "output_type": "display_data",
          "data": {
            "image/png": "[encoded data removed]",
            "text/plain": [
              "<Figure size 432x288 with 1 Axes>"
            ]
          },
          "metadata": {
            "tags": [],
            "needs_background": "light"
          }
        }
      ]
    },
    {
      "cell_type": "code",
      "metadata": {
        "colab": {
          "base_uri": "https://localhost:8080/"
        },
        "id": "DlzInGUa5mf5",
        "outputId": "94055ee3-ee0e-4de2-e47b-4abf72062cbe"
      },
      "source": [
        "f = open(\"aaCount.txt\", \"w\")\r\n",
        "val = str(dict(c))\r\n",
        "\r\n",
        "f.write(val)\r\n",
        "f.close()\r\n",
        "\r\n",
        "#open and read the file after the appending:\r\n",
        "f = open(\"aaCount.txt\", \"r\")\r\n",
        "print(f.read())"
      ],
      "execution_count": 7,
      "outputs": [
        {
          "output_type": "stream",
          "text": [
            "{'M': 15, 'N': 16, 'G': 22, 'T': 24, 'E': 16, 'P': 20, 'F': 30, 'Y': 19, 'V': 30, 'S': 17, 'A': 32, 'R': 7, 'Q': 12, 'L': 29, 'W': 5, 'I': 24, 'H': 5, 'K': 11, 'D': 4, 'C': 10}\n"
          ],
          "name": "stdout"
        }
      ]
    }
  ]
}